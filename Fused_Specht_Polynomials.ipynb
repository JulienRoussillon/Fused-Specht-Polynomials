{
 "cells": [
  {
   "cell_type": "markdown",
   "id": "1d12092b",
   "metadata": {},
   "source": [
    "The $\\textbf{first part}$ is to implement the monomials defined in Proposition 2.22. More precisely, to a Young tableau $U$ (that we consider rectangular for simplicity) we associate the monomial\n",
    "\n",
    "\\begin{equation} \\label{monomial}\n",
    "m_U(x_1,\\dots,x_d) := \\prod_{k=1}^d \\frac{(-1)^{\\binom{s_k}{2}} \\text{sgn}(\\tau_{U;k})}{s_k!} \\, S_{\\lambda^U(k)}(1^{s_k}) \\, x_k^{|\\lambda^U(k)|}.\n",
    "\\end{equation}\n",
    "\n",
    "Below we define the relevant quantities at play:\n",
    "\n",
    "$\\bullet$ $s_k$ is the number of times the integer $k$ appears in the tableau $U$.\n",
    "\n",
    "$\\bullet$ We denote by $(r_i^U(k))_{i=1}^{s_k}$ the sequence of row numbers of boxes of $U$ containing the entry $k$, \n",
    "ordered by column-reading $U$. Moreover, let $(r_i^{U,\\text{ord}}(k))_{i=1}^{s_k}$ be the ordering of $(r_i^U(k))_{i=1}^{s_k}$ in decreasing order. Then, $\\tau_{U;k}$ denotes a permutation that sends $(r_i^U(k))_{i=1}^{s_k}$ to $(r_i^{U,\\text{ord}}(k))_{i=1}^{s_k}$, that is, $(r_{\\tau_{U;k}(i)}^U(k))_{i=1}^{s_k} = (r_i^{U,\\text{ord}}(k))_{i=1}^{s_k}$. \n",
    "Finally, we define $\\lambda^U(k)$ to be the partition\n",
    "\\begin{align} \\label{eq:defpartitionlambda}\n",
    "\\lambda^U(k) := \\big( r_i^{U,\\text{ord}}(k)-s_k+i-1 \\big)_{i=1}^{s_k}.\n",
    "\\end{align} \n",
    "\n",
    "$\\bullet$ $S_{\\lambda^U(k)}(1^{s_k})$ denotes the Schur polynomial associated with the partition $\\lambda^U(k)$ and evaluated at 1 in each of its $s_k$ variables:\n",
    "\\begin{align*}\n",
    "S_{\\lambda^U(k)}(1^{s_k}) = \\prod_{1\\leq i < j \\leq s_k} \\frac{\\lambda^U_i(k)-\\lambda^U_j(k)+j-i}{j-i}.\n",
    "\\end{align*} \n",
    "\n",
    "The $\\textbf{second part}$ implements the combinatorial formula for the fused Specht polynomial:\n",
    "\n",
    "\\begin{align} \n",
    "\\mathcal F_F = |\\text{Stab}{\\mathfrak{Q}_\\lambda}{F}| \\sum_{U \\in(\\mathfrak{Q}_\\lambda.F) \\backslash W_F} \\text{sign}(\\sigma_{F;U}) \\; m_U,\n",
    "\\end{align}\n",
    "\n",
    "where\n",
    "\n",
    "$\\bullet$ $F$ is a $\\textit{filling}$: it's is a tableau where the entry $k$ appears freely $s_k$ number of times.  \n",
    "\n",
    "$\\bullet$ In words, the set $(\\mathfrak{Q}_\\lambda.F) \\backslash W_F$ consists of all tableaux obtained from F by permuting different entries within columns, except those where the same entry $k$ appears more than once in any given row.\n",
    "\n",
    "$\\bullet$ Finally, $|\\text{Stab}{\\mathfrak{Q}_\\lambda}{F}| = \\prod_{k=1}^d\\prod_{i=1}^{n_{\\text{col}}} p_{i,k}!$, where $n_{\\text{col}}$ is the number of columns of the tableau F, and where $p_{i,k}$ is the number of times that the number $k$ appears in the column $i$.\n"
   ]
  },
  {
   "cell_type": "code",
   "execution_count": 3,
   "id": "f54b92a0",
   "metadata": {},
   "outputs": [],
   "source": [
    "import numpy as np\n",
    "from sympy.combinatorics import Permutation\n",
    "from sympy import expand, symbols, prod, Rational, simplify\n",
    "from math import comb\n",
    "from sympy.functions.combinatorial.factorials import factorial\n",
    "from itertools import permutations, product, combinations"
   ]
  },
  {
   "cell_type": "markdown",
   "id": "734a887c",
   "metadata": {},
   "source": [
    "In the cell below, we implement four functions which compute $r_i^U(k))_{i=1}^{s_k}$, $(r_i^{U,\\text{ord}}(k))_{i=1}^{s_k}$, $\\lambda^U(k)$ and $\\tau_{U;k}$."
   ]
  },
  {
   "cell_type": "code",
   "execution_count": 4,
   "id": "b8d4963b",
   "metadata": {},
   "outputs": [],
   "source": [
    "# Young tableaux are implemented as nested lists. \n",
    "# For instance, [[1,2],[3,4]] represents the tableau with first row (1,2) and second row (3,4).\n",
    "# The number of columns in the tableau is len(tableau[0]).\n",
    "# The number of rows in the tableau is len(tableau).\n",
    "\n",
    "def row_sequence(tableau, k):\n",
    "    result = []\n",
    "    \n",
    "    # Iterate over the tableau in column order\n",
    "    for col in range(len(tableau[0])):\n",
    "        for row in range(len(tableau)):\n",
    "            # If the entry matches k, add the row number to the result\n",
    "            if tableau[row][col] == k:\n",
    "                result.append(row + 1)\n",
    "    \n",
    "    return tuple(result)\n",
    "\n",
    "def row_sequence_descending(tableau, k):\n",
    "    \n",
    "    return tuple(sorted(row_sequence(tableau, k), reverse=True))\n",
    "\n",
    "def partition_lambda(tableau, k):\n",
    "    sequence = row_sequence_descending(tableau, k)\n",
    "    return tuple(sequence[i] - len(sequence) + i for i in range(len(sequence)))\n",
    "\n",
    "def sign_tau(tableau, k):\n",
    "    # Get the original and sorted sequences\n",
    "    orig_seq = row_sequence(tableau, k)\n",
    "    sorted_seq = row_sequence_descending(tableau, k)\n",
    "\n",
    "    # Create a mapping from elements to their positions in the original sequence\n",
    "    position_map = {element: i for i, element in enumerate(orig_seq)}\n",
    "\n",
    "    # Create the permutation that sorts the original sequence\n",
    "    tau = [position_map[element] for element in sorted_seq]\n",
    "\n",
    "    # Create a permutation object from which we get the signature\n",
    "    tau_obj = Permutation(tau)\n",
    "    return tau_obj.signature()"
   ]
  },
  {
   "cell_type": "markdown",
   "id": "3aef3ec4",
   "metadata": {},
   "source": [
    "We now implement the formula for the Schur polynomial."
   ]
  },
  {
   "cell_type": "code",
   "execution_count": 5,
   "id": "b057c03a",
   "metadata": {},
   "outputs": [],
   "source": [
    "# Implementing the Schur polynomial of a given partition and evaluated at 1 in all its variables\n",
    "\n",
    "def S_lambda(n, partition):\n",
    "    # If the partition is not in decreasing order, or if not all elements are positive, return 0\n",
    "    if partition != tuple(sorted(partition, reverse=True)) or any(item < 0 for item in partition):\n",
    "        return 0\n",
    "\n",
    "    extended_partition = partition + tuple([0] * (n - len(partition)))\n",
    "    S_lambda = 1\n",
    "    for i in range(n):\n",
    "        for j in range(i+1, n):\n",
    "            S_lambda *= (extended_partition[i] - extended_partition[j] + j - i) / (j - i)\n",
    "    return S_lambda"
   ]
  },
  {
   "cell_type": "markdown",
   "id": "c6222f97",
   "metadata": {},
   "source": [
    "We are now ready to implement the formula for the monomial $m_U$."
   ]
  },
  {
   "cell_type": "code",
   "execution_count": 6,
   "id": "06dfbe22",
   "metadata": {},
   "outputs": [],
   "source": [
    "def monomial_k(tableau, k):\n",
    "    \n",
    "    s_k = len(row_sequence(tableau, k))\n",
    "    coefficient_k = Rational(sign_tau(tableau, k) * (-1)**comb(s_k, 2) / (factorial(s_k)))\n",
    "\n",
    "    # Create the symbolic variable y_k\n",
    "    x_k = symbols(f'x{k}')\n",
    "\n",
    "    # Compute the monomial\n",
    "    lambda_k = partition_lambda(tableau, k)\n",
    "    monomial_k = coefficient_k * Rational(S_lambda(s_k, lambda_k)) * x_k**sum(lambda_k)\n",
    "\n",
    "    return monomial_k\n",
    "\n",
    "def monomial(tableau):\n",
    "    \n",
    "    entries = set(num for row in tableau for num in row)\n",
    "    return prod(monomial_k(tableau,k) for k in entries)     "
   ]
  },
  {
   "cell_type": "markdown",
   "id": "a4c1b0a1",
   "metadata": {},
   "source": [
    "We noe begin the second part. We need to compute the sign of the shortest permutation sending one filling to another."
   ]
  },
  {
   "cell_type": "code",
   "execution_count": 7,
   "id": "620100c6",
   "metadata": {},
   "outputs": [],
   "source": [
    "def sign_sigma_FU(F, U):\n",
    "\n",
    "    # Flatten F and U column-wise (preserving column structure)\n",
    "    flat_F = [num for col in zip(*F) for num in col]\n",
    "    flat_U = [num for col in zip(*U) for num in col]\n",
    "\n",
    "    # Create a mapping from flat_F to its indices\n",
    "    index_map = {value: idx for idx, value in enumerate(flat_F)}\n",
    "\n",
    "    # Build the permutation that maps flat_F to flat_U\n",
    "    permutation = [index_map[value] for value in flat_U]\n",
    "\n",
    "    # Compute the signature using SymPy\n",
    "    perm_obj = Permutation(permutation)\n",
    "\n",
    "    # Return the correct signature\n",
    "    return perm_obj.signature()"
   ]
  },
  {
   "cell_type": "markdown",
   "id": "bea778d2",
   "metadata": {},
   "source": [
    "We now construct the set of tableaux $(\\mathfrak{Q}_\\lambda.F) \\backslash W_F$ over which we sum to get the fused Specht polynomials."
   ]
  },
  {
   "cell_type": "code",
   "execution_count": 8,
   "id": "bb5351bd",
   "metadata": {},
   "outputs": [],
   "source": [
    "def generate_valid_tableaux(F):\n",
    "\n",
    "    # Extract columns from F\n",
    "    columns = list(zip(*F))  # Transpose F to get columns as tuples\n",
    "\n",
    "    # Generate all permutations for each column\n",
    "    column_permutations = [list(permutations(col)) for col in columns]\n",
    "\n",
    "    # Combine permutations of all columns\n",
    "    all_combinations = product(*column_permutations)\n",
    "\n",
    "    # Use a set to store unique tableaux\n",
    "    unique_tableaux = set()\n",
    "    for combo in all_combinations:\n",
    "        # Transpose columns back into rows\n",
    "        U = tuple(zip(*combo))  # Use tuple to make rows hashable\n",
    "        \n",
    "        # Check for duplicates in rows\n",
    "        if all(len(set(row)) == len(row) for row in U):\n",
    "            unique_tableaux.add(U)  # Add the tableau to the set\n",
    "    \n",
    "    # Convert back to list of lists for the final result\n",
    "    return [list(map(list, tableau)) for tableau in unique_tableaux]"
   ]
  },
  {
   "cell_type": "markdown",
   "id": "fd03c3b6",
   "metadata": {},
   "source": [
    "We now compute $|\\text{Stab}{\\mathfrak{Q}_\\lambda}{F}|$."
   ]
  },
  {
   "cell_type": "code",
   "execution_count": 9,
   "id": "986c021c",
   "metadata": {},
   "outputs": [],
   "source": [
    "def count_in_column(tableau, k, l):\n",
    "    count = 0\n",
    "    for row in tableau:\n",
    "        if row[l] == k:  # Check if the number in column l matches k\n",
    "            count += 1\n",
    "    return factorial(count)\n",
    "\n",
    "def stab_k(tableau, k):\n",
    "    \n",
    "    n_cols = len(tableau[0])  \n",
    "    counts = [count_in_column(tableau, k, l) for l in range(n_cols)]\n",
    "    return prod(counts)\n",
    "\n",
    "def total_stab(tableau):\n",
    "    entries = set(num for row in tableau for num in row)\n",
    "    return prod(stab_k(tableau,k) for k in entries)"
   ]
  },
  {
   "cell_type": "markdown",
   "id": "f4696267",
   "metadata": {},
   "source": [
    "We are now ready to compute the fused Specht polynomials!"
   ]
  },
  {
   "cell_type": "code",
   "execution_count": 10,
   "id": "75306d55",
   "metadata": {},
   "outputs": [],
   "source": [
    "def fused_specht_polynomial(F):\n",
    "    result = 0\n",
    "    valid_tableaux = generate_valid_tableaux(F)\n",
    "    for U in valid_tableaux:\n",
    "        result +=  sign_sigma_FU(F, U) * monomial(U)\n",
    "    return simplify(total_stab(F) * result)"
   ]
  },
  {
   "cell_type": "markdown",
   "id": "86409ae8",
   "metadata": {},
   "source": [
    "We finally want to make sure that this formula works in the simplest case where $s_k$ = 1 for all $k=1,\\dots, d$. In this case, the fused Specht polynomial reduces to an ordinary Specht polynomial. "
   ]
  },
  {
   "cell_type": "code",
   "execution_count": 11,
   "id": "d8954e7c",
   "metadata": {},
   "outputs": [],
   "source": [
    "def specht_polynomial(tableau):\n",
    "\n",
    "    # Create symbolic variables for x_1, x_2, ..., x_n\n",
    "    n = max(max(row) for row in tableau)  # Find the largest number in the tableau\n",
    "    variables = symbols(f'x1:{n+1}')  \n",
    "    \n",
    "    polynomial = 1 \n",
    "\n",
    "    # Compute the Vandermonde determinant associated with each column\n",
    "    for col in zip(*tableau):  \n",
    "        col_diff = prod(variables[j-1] - variables[i-1] for i, j in combinations(col, 2))\n",
    "        polynomial *= col_diff\n",
    "\n",
    "    return polynomial"
   ]
  },
  {
   "cell_type": "code",
   "execution_count": 12,
   "id": "2f0ed864",
   "metadata": {},
   "outputs": [
    {
     "name": "stdout",
     "output_type": "stream",
     "text": [
      "0\n"
     ]
    }
   ],
   "source": [
    "T = [[1,2],[3,4],[5,6],[7,8]]\n",
    "A = expand(specht_polynomial(T))\n",
    "B = fused_specht_polynomial(T)\n",
    "\n",
    "print(A-B)"
   ]
  },
  {
   "cell_type": "code",
   "execution_count": null,
   "id": "c756f7d0",
   "metadata": {},
   "outputs": [],
   "source": []
  }
 ],
 "metadata": {
  "kernelspec": {
   "display_name": "Python 3 (ipykernel)",
   "language": "python",
   "name": "python3"
  },
  "language_info": {
   "codemirror_mode": {
    "name": "ipython",
    "version": 3
   },
   "file_extension": ".py",
   "mimetype": "text/x-python",
   "name": "python",
   "nbconvert_exporter": "python",
   "pygments_lexer": "ipython3",
   "version": "3.11.7"
  }
 },
 "nbformat": 4,
 "nbformat_minor": 5
}
